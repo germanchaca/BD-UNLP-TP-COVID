{
 "cells": [
  {
   "cell_type": "code",
   "execution_count": 1,
   "metadata": {},
   "outputs": [],
   "source": [
    "import os\n",
    "import glob\n",
    "import pandas as pd\n",
    "os.chdir(\"../Data/txt\")"
   ]
  },
  {
   "cell_type": "code",
   "execution_count": 28,
   "metadata": {},
   "outputs": [],
   "source": [
    "extension = 'txt'\n",
    "filenames = [i for i in glob.glob('*.{}'.format(extension))]"
   ]
  },
  {
   "cell_type": "code",
   "execution_count": 29,
   "metadata": {},
   "outputs": [],
   "source": [
    "def check_data(data):\n",
    "    if (data[1] is None): return False\n",
    "    if (data[1] == \"\"): return False\n",
    "    return True # << True if data should be written into target file, else False"
   ]
  },
  {
   "cell_type": "code",
   "execution_count": 31,
   "metadata": {},
   "outputs": [],
   "source": [
    "sep = \":\"\n",
    "\n",
    "with open(\"result.csv\", \"a+\") as targetfile:\n",
    "    for filename in filenames :\n",
    "        with open(filename, \"r\") as f:\n",
    "            for line in f:\n",
    "                data = line.split(sep)\n",
    "                data[1] = data[1].replace(\"\\n\",\"\").replace(\"notfound\",\"\").replace(\"nan\",\"\").replace(\"NaN\",\"\").replace(\"private\",\"\")\n",
    "                if check_data(data):\n",
    "                    targetfile.write(line)"
   ]
  },
  {
   "cell_type": "code",
   "execution_count": null,
   "metadata": {},
   "outputs": [],
   "source": []
  }
 ],
 "metadata": {
  "kernelspec": {
   "display_name": "Python 2",
   "language": "python",
   "name": "python2"
  },
  "language_info": {
   "codemirror_mode": {
    "name": "ipython",
    "version": 2
   },
   "file_extension": ".py",
   "mimetype": "text/x-python",
   "name": "python",
   "nbconvert_exporter": "python",
   "pygments_lexer": "ipython2",
   "version": "2.7.16"
  }
 },
 "nbformat": 4,
 "nbformat_minor": 2
}
